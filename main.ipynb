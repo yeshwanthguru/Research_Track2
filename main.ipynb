{
 "cells": [
  {
   "cell_type": "code",
   "execution_count": 4,
   "id": "586286c9",
   "metadata": {
    "ExecuteTime": {
     "end_time": "2021-12-27T09:51:03.663301Z",
     "start_time": "2021-12-27T09:51:03.547787Z"
    }
   },
   "outputs": [
    {
     "data": {
      "application/vnd.jupyter.widget-view+json": {
       "model_id": "019f8be74a2f4ac994050cf2504901d5",
       "version_major": 2,
       "version_minor": 0
      },
      "text/plain": [
       "GridBox(children=(Button(description='START ', layout=Layout(grid_area='b1', width='auto'), style=ButtonStyle(…"
      ]
     },
     "metadata": {},
     "output_type": "display_data"
    }
   ],
   "source": [
    "import jupyros as jr\n",
    "import rospy\n",
    "from ipywidgets import Button, Layout, ButtonStyle, GridBox, VBox, HBox\n",
    "import ipywidgets as widgets\n",
    "import rt2_assignment import Command\n",
    "import geometry_msgs.msg import Twist\n",
    "\n",
    "rospy.init_node('jupyter_robot_node')\n",
    "ui_client = rospy.ServiceProxy('/user_interface', Command)\n",
    "\n",
    "\n",
    "\n",
    "button1 = Button(description='START ',\n",
    "layout=Layout(width='auto', align=\"center\", grid_area='b1'),\n",
    "style=ButtonStyle(button_color='lightblue'))\n",
    "\n",
    "button2 = Button(description='STOP',\n",
    "layout=Layout(width='auto', grid_area='b2'),\n",
    "style=ButtonStyle(button_color='lightblue'))\n",
    "\n",
    "HBox([VBox([button1, button2])])\n",
    "GridBox(children=[button1, button2],\n",
    "layout=Layout(\n",
    "width='40%',\n",
    "grid_template_rows='auto auto',\n",
    "grid_template_columns='33% 33%',\n",
    "grid_template_areas='''\n",
    "\"b1 . b2 \"\n",
    "\n",
    "''')\n",
    ")\n",
    "\n",
    "    "
   ]
  },
  {
   "cell_type": "code",
   "execution_count": 5,
   "id": "376ba041",
   "metadata": {
    "ExecuteTime": {
     "end_time": "2021-12-27T10:05:36.991761Z",
     "start_time": "2021-12-27T10:05:36.803704Z"
    }
   },
   "outputs": [
    {
     "data": {
      "application/vnd.jupyter.widget-view+json": {
       "model_id": "566605a789644126b55601bd6e771814",
       "version_major": 2,
       "version_minor": 0
      },
      "text/plain": [
       "GridBox(children=(Button(description='↑ ', layout=Layout(grid_area='b1', width='auto'), style=ButtonStyle(butt…"
      ]
     },
     "metadata": {},
     "output_type": "display_data"
    }
   ],
   "source": [
    "from ipywidgets import Button, Layout, ButtonStyle, GridBox, VBox, HBox\n",
    "import ipywidgets as widgets\n",
    "\n",
    "\n",
    "b1 = Button(description='↑ ',\n",
    "layout=Layout(width='auto', align=\"center\", grid_area='b1'),\n",
    "style=ButtonStyle(button_color='lightblue'))\n",
    "\n",
    "b2 = Button(description='←',\n",
    "layout=Layout(width='auto', grid_area='b2'),\n",
    "style=ButtonStyle(button_color='lightblue'))\n",
    "\n",
    "b3 = Button(description='→ ',\n",
    "layout=Layout(width='auto', grid_area='b3'),\n",
    "style=ButtonStyle(button_color='lightblue'))\n",
    "\n",
    "b4 = Button(description='↓',\n",
    "layout=Layout(width='auto', grid_area='b4'),\n",
    "style=ButtonStyle(button_color='lightblue'))\n",
    "\n",
    "HBox([b3,VBox([b1, b2])])\n",
    "GridBox(children=[b1, b2, b3,b4],\n",
    "layout=Layout(\n",
    "width='20%',\n",
    "grid_template_rows='auto auto',\n",
    "grid_template_columns='33% 33% 33% 33%',\n",
    "grid_template_areas='''\n",
    "\" . b1 . \"\n",
    "\"b2 . b3 \"\n",
    "\".  b4   . \"\n",
    "''')\n",
    ")"
   ]
  },
  {
   "cell_type": "code",
   "execution_count": null,
   "id": "e2926085",
   "metadata": {},
   "outputs": [],
   "source": []
  }
 ],
 "metadata": {
  "kernelspec": {
   "display_name": "Python 3 (ipykernel)",
   "language": "python",
   "name": "python3"
  },
  "language_info": {
   "codemirror_mode": {
    "name": "ipython",
    "version": 3
   },
   "file_extension": ".py",
   "mimetype": "text/x-python",
   "name": "python",
   "nbconvert_exporter": "python",
   "pygments_lexer": "ipython3",
   "version": "3.8.10"
  },
  "toc": {
   "base_numbering": 1,
   "nav_menu": {},
   "number_sections": true,
   "sideBar": true,
   "skip_h1_title": false,
   "title_cell": "Table of Contents",
   "title_sidebar": "Contents",
   "toc_cell": false,
   "toc_position": {},
   "toc_section_display": true,
   "toc_window_display": false
  },
  "varInspector": {
   "cols": {
    "lenName": 16,
    "lenType": 16,
    "lenVar": 40
   },
   "kernels_config": {
    "python": {
     "delete_cmd_postfix": "",
     "delete_cmd_prefix": "del ",
     "library": "var_list.py",
     "varRefreshCmd": "print(var_dic_list())"
    },
    "r": {
     "delete_cmd_postfix": ") ",
     "delete_cmd_prefix": "rm(",
     "library": "var_list.r",
     "varRefreshCmd": "cat(var_dic_list()) "
    }
   },
   "types_to_exclude": [
    "module",
    "function",
    "builtin_function_or_method",
    "instance",
    "_Feature"
   ],
   "window_display": false
  }
 },
 "nbformat": 4,
 "nbformat_minor": 5
}
