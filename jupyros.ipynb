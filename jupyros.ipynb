{
 "cells": [
  {
   "cell_type": "markdown",
   "id": "c0a2f1d8",
   "metadata": {},
   "source": [
    "# JUPYTERNOTEBOOK_INTERFACE_CONTROL_THE_ROBOT_IN_GAZEBO"
   ]
  },
  {
   "cell_type": "code",
   "execution_count": 1,
   "id": "c62db892",
   "metadata": {},
   "outputs": [],
   "source": [
    "%matplotlib widget\n",
    "import numpy as npy\n",
    "import collections\n",
    "import jupyros as jr\n",
    "import rospy\n",
    "import time\n",
    "import actionlib\n",
    "import actionlib.msg\n",
    "import rt2_assignment1.msg\n",
    "import ipywidgets as widgets\n",
    "import matplotlib.pyplot as plot\n",
    "import matplotlib.ticker as ticker\n",
    "\n",
    "from geometry_msgs.msg import Twist\n",
    "from rt2_assignment1.srv import Command\n",
    "from rosgraph_msgs.msg import Clock\n",
    "from nav_msgs.msg import Odometry\n",
    "from matplotlib import animation\n",
    "from matplotlib import rc\n",
    "from ipywidgets import Button, Layout, ButtonStyle, GridBox, VBox, HBox ,Box ,AppLayout , GridspecLayout ,Label\n",
    "\n",
    "#Control node initialization for the process\n",
    "rospy.init_node('jupyros_node')\n",
    "\n",
    "\n",
    "# Global variable initialization state\n",
    "global linear_set, angular_set, rps\n",
    "\n",
    "linear_set = 0.0 \n",
    "angular_set = 0.0\n",
    "reached = 0\n",
    "cancelled = 0\n",
    "\n"
   ]
  },
  {
   "cell_type": "markdown",
   "id": "ca7f1214",
   "metadata": {},
   "source": [
    "# SLIDERS TO MODULATE THE LINEAR AND ANGULAR VELOCITY OF ROBOT"
   ]
  },
  {
   "cell_type": "markdown",
   "id": "71aedcb8",
   "metadata": {},
   "source": [
    "\"go_to_point\" ---> velocity modulation done with two servers(rando mode ) and in the manual mode\n",
    "the topics were published with the cmd/vel topic of the robot"
   ]
  },
  {
   "cell_type": "code",
   "execution_count": 2,
   "id": "83113c4b",
   "metadata": {
    "scrolled": true
   },
   "outputs": [
    {
     "data": {
      "application/vnd.jupyter.widget-view+json": {
       "model_id": "31241eb0916b47bfb8dab4ea881fddbd",
       "version_major": 2,
       "version_minor": 0
      },
      "text/plain": [
       "FloatSlider(value=0.0, description='L_v.', max=1.0)"
      ]
     },
     "metadata": {},
     "output_type": "display_data"
    },
    {
     "data": {
      "application/vnd.jupyter.widget-view+json": {
       "model_id": "aa3b91a83de544df9bb84984c5e26e45",
       "version_major": 2,
       "version_minor": 0
      },
      "text/plain": [
       "FloatSlider(value=0.0, description='A_v.', max=1.0)"
      ]
     },
     "metadata": {},
     "output_type": "display_data"
    }
   ],
   "source": [
    "#sliders to controll the linear velocity and angular velocity\n",
    "\n",
    "pub = rospy.Publisher('cmd_vel', Twist, queue_size=10)\n",
    "\n",
    "msg = Twist()\n",
    "\n",
    "Linear_vel = widgets.FloatSlider(min=0.0, max=1.0, description='L_v.')\n",
    "display(Linear_vel)\n",
    "\n",
    "Angular_vel = widgets.FloatSlider(min=0.0, max=1.0, description='A_v.')\n",
    "display(Angular_vel)\n",
    "\n",
    "\n",
    "def lin_c(change):\n",
    "    if rps == False:\n",
    "        msg.linear.x = change['new']\n",
    "        pub.publish(msg)\n",
    "    else:\n",
    "        slider_linear = change['new']\n",
    "        print(\"linear velocity altered\")\n",
    "    \n",
    "def ang_c(change):\n",
    "    if rps == False:\n",
    "        msg.angular.z = change['new']\n",
    "        pub.publish(msg)\n",
    "    else:\n",
    "        slider_angular = change['new']\n",
    "        print(\" angular velocity altered\")\n",
    "\n",
    "Linear_vel.observe(lin_c, names='value')\n",
    "Angular_vel.observe(ang_c, names='value')"
   ]
  },
  {
   "cell_type": "markdown",
   "id": "9c59709d",
   "metadata": {},
   "source": [
    "# CONTROL BUTTONS FOR ROBOT "
   ]
  },
  {
   "cell_type": "markdown",
   "id": "6f542a1b",
   "metadata": {},
   "source": [
    "This block defines the implementation of robot controll using the widgets \n",
    "\n",
    "\n",
    "in which \n",
    "\n",
    "start --> turns the go_to_point for robot movement\n",
    "stop -->  stops the robot\n"
   ]
  },
  {
   "cell_type": "code",
   "execution_count": null,
   "id": "5601d8f5",
   "metadata": {},
   "outputs": [],
   "source": []
  },
  {
   "cell_type": "code",
   "execution_count": 3,
   "id": "a5506b44",
   "metadata": {
    "scrolled": true
   },
   "outputs": [
    {
     "data": {
      "application/vnd.jupyter.widget-view+json": {
       "model_id": "4a41131344c5453fa892b689ec826e72",
       "version_major": 2,
       "version_minor": 0
      },
      "text/plain": [
       "VBox(children=(AppLayout(children=(Button(description='start', layout=Layout(grid_area='header', width='auto')…"
      ]
     },
     "metadata": {},
     "output_type": "display_data"
    }
   ],
   "source": [
    "up  = Button(description='up',layout=Layout(width='auto', align=\"center\", grid_area='8'),style=ButtonStyle(button_color='white'))\n",
    "left  = Button(description='left',layout=Layout(width='auto', grid_area='4'),style=ButtonStyle(button_color='white'))\n",
    "right = Button(description='right',layout=Layout(width='auto', grid_area='6'),style=ButtonStyle(button_color='white'))\n",
    "down = Button(description='down',layout=Layout(width='auto', grid_area='2'),style=ButtonStyle(button_color='white'))\n",
    "start  = Button(description='start',layout=Layout(width='auto', grid_area='start'),style=ButtonStyle(button_color='green'))\n",
    "stop  = Button(description='Stop',layout=Layout(width='auto', grid_area='Stop'),style=ButtonStyle(button_color='red'))\n",
    "output = widgets.Output()\n",
    "\n",
    "#Node initialization\n",
    "ui_client = rospy.ServiceProxy('/user_interface', Command)\n",
    "# Stop the robot and initialize its status\n",
    "ui_client(\"stop\")\n",
    "action_service = actionlib.SimpleActionServer('/go_to_point', rt2_assignment1.msg.RcAction, auto_start=False)\n",
    "action_client = actionlib.SimpleActionClient('/go_to_point', rt2_assignment1.msg.RcAction)\n",
    "\n",
    "\n",
    "# Output of the buttons such as control robot start and stop and all directional control\n",
    "def start_(start):\n",
    "    global rps,task_time\n",
    "    with output:\n",
    "        slider_lin = 1.0\n",
    "        slider_ang = 1.0\n",
    "    ui_client(\"start\")\n",
    "    rps=True\n",
    "    print('robot started')\n",
    "        \n",
    "\n",
    "def stop_(stop):\n",
    "    global rps\n",
    "    with output:\n",
    "        ui_client(\"stop\")\n",
    "        if rps == False:\n",
    "            print(\"robot stopped\")\n",
    "        rps = False \n",
    "        print('robot stopped')\n",
    "        \n",
    "def up_(up):\n",
    "    global rps, linear_set, angular_set\n",
    "    if rps == True:\n",
    "        ui_client(\"stop\")\n",
    "        print(\"input given start the robot to proceed the operation\")\n",
    "        rps = False\n",
    "    elif rps == False:\n",
    "        if linear_set == 0.0:\n",
    "            print(\"Linear speed set to zero. Change it to make me move.\")\n",
    "        else:\n",
    "            msg.linear.x = linear_set\n",
    "            msg.angular.z = 0.0\n",
    "            pub.publish(msg)\n",
    "            print(\"robot_move straight\")     \n",
    "\n",
    "def down_(down):\n",
    "    global rps, linear_set, angular_set\n",
    "    if rps == True:\n",
    "        ui_client(\"stop\")\n",
    "        print(\"input given start the robot to proceed the operation\")\n",
    "        rps = False\n",
    "    elif rps == False:\n",
    "        if linear_set == 0.0:\n",
    "            print(\"Linear speed set to zero. Change it to make me move.\")\n",
    "        else:\n",
    "            msg.linear.x = -linear_set\n",
    "            msg.angular.z = angular_set\n",
    "            linear_set = msg.linear.x \n",
    "            angular_set = msg.angular.z \n",
    "            pub.publish(msg)\n",
    "            print(\"robot_move_backwards\")\n",
    "        \n",
    "def right_(right):\n",
    "    global rps, linear_set, angular_set\n",
    "    if rps == True:\n",
    "        ui_client(\"stop\")\n",
    "        print(\"input given start the robot to proceed the operation\")\n",
    "        rps = False\n",
    "    elif rps == False:\n",
    "        if angular_set == 0.0:\n",
    "            print(\"Angular speed set to zero. Change it to make me turn.\")\n",
    "        else:\n",
    "            msg.linear.x = linear_set\n",
    "            msg.angular.z = angular_set\n",
    "            pub.publish(msg)\n",
    "            print(\"robot_turn_right\")\n",
    "        \n",
    "def left_(left):\n",
    "    global rps, linear_set, angular_set\n",
    "    if rps == True:\n",
    "        ui_client(\"stop\")\n",
    "        print(\"input given start the robot to proceed the operation\")\n",
    "        rps = False\n",
    "    elif rps == False:\n",
    "        if angular_set == 0.0:\n",
    "            print(\"Angular speed set to zero. Change it to make me turn.\")\n",
    "        else:\n",
    "            msg.linear.x = linear_set\n",
    "            msg.angular.z = -angular_set\n",
    "            pub.publish(msg)\n",
    "            print(\"Robot_turn_left\")\n",
    "\n",
    "        \n",
    "# Callback definition\n",
    "start.on_click(start_)\n",
    "stop.on_click(stop_)\n",
    "up.on_click(up_)\n",
    "down.on_click(down_)\n",
    "right.on_click(right_)\n",
    "left.on_click(left_)\n",
    "\n",
    "\n",
    "buttons = AppLayout(header=start,left_sidebar=left,center=up,right_sidebar=right,footer=stop)\n",
    "buttons1 = AppLayout(header=down)\n",
    "widgets.VBox([buttons,buttons1, output])\n",
    "\n"
   ]
  },
  {
   "cell_type": "markdown",
   "id": "ecd09ed7",
   "metadata": {},
   "source": [
    "# ROBOT CURRENT POSITION"
   ]
  },
  {
   "cell_type": "markdown",
   "id": "fd22696b",
   "metadata": {},
   "source": [
    "this block tells the current position of the robot...... with the odometery topic."
   ]
  },
  {
   "cell_type": "code",
   "execution_count": 4,
   "id": "7e427081",
   "metadata": {},
   "outputs": [
    {
     "data": {
      "application/vnd.jupyter.widget-view+json": {
       "model_id": "c3367a18cd1546a0bb8a097d163a9432",
       "version_major": 2,
       "version_minor": 0
      },
      "text/plain": [
       "Canvas(toolbar=Toolbar(toolitems=[('Home', 'Reset original view', 'home', 'home'), ('Back', 'Back to previous …"
      ]
     },
     "metadata": {},
     "output_type": "display_data"
    }
   ],
   "source": [
    " # Robot current position \n",
    "fig, ax = plot.subplots()\n",
    "ax.set_xlim(( -20, 20))\n",
    "ax.set_ylim((-20, 20))\n",
    "ax.set_aspect(\"equal\")\n",
    "plot.xlabel(\"X-axis\")\n",
    "plot.ylabel(\"Y-axis\")\n",
    "plot.title(\"Robot current positon\")\n",
    "\n",
    "line, = ax.plot([], [], 'rx', markersize=\"5\")\n",
    "\n",
    "x_data =  collections.deque(maxlen=300)\n",
    "y_data = collections.deque(maxlen=300)\n",
    "theta_data = collections.deque(maxlen=300)\n",
    "\n",
    "def init():\n",
    "    line.set_data([], [])\n",
    "    return (line,)\n",
    "    \n",
    "def animate(i):\n",
    "    line.set_data(x_data, y_data)\n",
    "    \n",
    "    return (line)\n",
    "\n",
    "def odom_callback(msg):\n",
    "    y_data.append(msg.pose.pose.position.y)\n",
    "    x_data.append(msg.pose.pose.position.x) \n",
    "      \n",
    "                  \n",
    "# Read robot odometry\n",
    "jr.subscribe('/odom', Odometry, odom_callback)\n",
    "\n",
    "\n",
    "anim_position = animation.FuncAnimation(fig, animate, init_func=init, blit=True)\n"
   ]
  },
  {
   "cell_type": "markdown",
   "id": "3faa1b97",
   "metadata": {},
   "source": [
    "# DATA ANALYSIS OF LINEAR AND ANGULAR VELOCITY OF ROBOT"
   ]
  },
  {
   "cell_type": "markdown",
   "id": "943acee7",
   "metadata": {},
   "source": [
    "linear velocity and angular velocity data has been plotted ....."
   ]
  },
  {
   "cell_type": "code",
   "execution_count": 5,
   "id": "cf9bdd68",
   "metadata": {},
   "outputs": [
    {
     "data": {
      "application/vnd.jupyter.widget-view+json": {
       "model_id": "8c0d29f6e8db40b59684313686f94c75",
       "version_major": 2,
       "version_minor": 0
      },
      "text/plain": [
       "Canvas(toolbar=Toolbar(toolitems=[('Home', 'Reset original view', 'home', 'home'), ('Back', 'Back to previous …"
      ]
     },
     "metadata": {},
     "output_type": "display_data"
    },
    {
     "data": {
      "application/vnd.jupyter.widget-view+json": {
       "model_id": "3845f9df051041a39842374bd444383e",
       "version_major": 2,
       "version_minor": 0
      },
      "text/plain": [
       "Canvas(toolbar=Toolbar(toolitems=[('Home', 'Reset original view', 'home', 'home'), ('Back', 'Back to previous …"
      ]
     },
     "metadata": {},
     "output_type": "display_data"
    }
   ],
   "source": [
    "# Velocity feedback of the robot\n",
    "fig_lin_vel, ax_lin_vel = plot.subplots()\n",
    "ax_lin_vel.set_xlim(0, 100)\n",
    "ax_lin_vel.set_ylim((-1.1, 1.1))\n",
    "plot.title(\"Velocity check linear velocity\")\n",
    "plot.xlabel(\"Time [s]\")\n",
    "plot.ylabel(\"linear Velocity\")\n",
    "\n",
    "fig_ang_vel, ax_ang_vel = plot.subplots()\n",
    "ax_ang_vel.set_xlim(0, 100)\n",
    "ax_ang_vel.set_ylim((-1.1, 1.1))\n",
    "plot.title(\"Velocity check angular velocity\")\n",
    "plot.xlabel(\"Time [s]\")\n",
    "plot.ylabel(\"angular Velocity\")\n",
    "\n",
    "# Array initilaization to store the value\n",
    "\n",
    "time_vect = collections.deque(maxlen=400)\n",
    "vel_target = collections.deque(maxlen=400)\n",
    "vel_current = collections.deque(maxlen=400)\n",
    "angular_target = collections.deque(maxlen=400)\n",
    "angular_current = collections.deque(maxlen=400)\n",
    "\n",
    "# linear velocity(v)\n",
    "line_vel_target, = ax_lin_vel.plot([], [], '-b', markersize='5')\n",
    "line_vel_current, = ax_lin_vel.plot([], [], '-r', markersize='5')\n",
    "# angular velocity(w)\n",
    "line_ang_target, = ax_ang_vel.plot([], [], 'xc', markersize='5')\n",
    "line_ang_current, = ax_ang_vel.plot([], [], 'xg', markersize='5')\n",
    "\n",
    "\n",
    "def init_vel():\n",
    "   \n",
    "    global line_vel_target, line_vel_current, line_ang_target, line_ang_current, ax_lin_vel, ax_ang_vel\n",
    "    \n",
    "    ax_lin_vel.legend()\n",
    "    ax_lin_vel.set_title(\"Odom vs cmd_vel linear velocity\")\n",
    "    ax_lin_vel.set(xlabel='Time', ylabel='Linear velocity')\n",
    "    ax_lin_vel.set_xlabel('time')\n",
    "\n",
    "    ax_ang_vel.legend()\n",
    "    ax_ang_vel.set_title(\"Odom vs cmd_vel angular velocity\")\n",
    "    ax_ang_vel.set(xlabel='Time', ylabel='Angular velocity')\n",
    "    ax_ang_vel.set_xlabel('time')\n",
    "    \n",
    "    ax_lin_vel.set_ylim(-5,5)\n",
    "    ax_ang_vel.set_ylim(-5,5)\n",
    "     \n",
    "    \n",
    "    line_vel_target.set_data([],[])\n",
    "    line_vel_current.set_data([],[])\n",
    "    line_ang_current.set_data([],[])\n",
    "    line_ang_target.set_data([],[])\n",
    "\n",
    "    return (  line_vel_target,    line_vel_current, line_ang_current, line_ang_target)\n",
    "\n",
    "def animate_vel(i):   \n",
    "    ax_lin_vel.legend([line_vel_target ,line_vel_current], ['Cmd. linear', 'Linear Vel.'], loc = 'lower right')\n",
    "    ax_ang_vel.legend([line_ang_target ,line_ang_current], ['Cmd. angular', 'ang Vel.'], loc = 'lower right')\n",
    "    # linear velocity lines\n",
    "    line_vel_target.set_data(time_vect, vel_target)   \n",
    "    line_vel_current.set_data(time_vect, vel_current)  \n",
    "    # angular velocity lines\n",
    "    line_ang_target.set_data(time_vect, angular_target) \n",
    "    line_ang_current.set_data(time_vect, angular_current) \n",
    "    \n",
    "    return (line_vel_target, line_ang_target, line_vel_current, line_ang_current)\n",
    "\n",
    "def vel_callback(msg_cmd):   \n",
    "    \n",
    "    time_vect.append(rospy.get_time())       \n",
    "    vel_target.append(msg_cmd.linear.x)  \n",
    "    angular_target.append(msg_cmd.angular.z)  \n",
    "    x_min = max([0, max(time_vect) - 20]) \n",
    "    x_max = max([100, max(time_vect)])\n",
    "    ax_lin_vel.set_xlim( x_min, x_max )\n",
    "    ax_ang_vel.set_xlim( x_min, x_max )\n",
    "\n",
    "def odom_speed_callback(msg_odom):       \n",
    "    vel_current.append(msg_odom.twist.twist.linear.x) \n",
    "    angular_current.append(-1.85*msg_odom.twist.twist.angular.z)\n",
    "\n",
    "#robot_velocity data reading\n",
    "jr.subscribe('cmd_vel', Twist, vel_callback)\n",
    "#robot_odometery data reading\n",
    "jr.subscribe('odom', Odometry, odom_speed_callback)\n",
    "\n",
    "# Final output visual of odom and cmd_vel data\n",
    "anim_l_velocity = animation.FuncAnimation(fig_lin_vel, animate_vel, frames = 1, init_func=init_vel, blit=True)\n",
    "\n",
    "anim_a_velocity = animation.FuncAnimation(fig_ang_vel, animate_vel, frames = 1, init_func=init_vel, blit=True)\n"
   ]
  },
  {
   "cell_type": "markdown",
   "id": "3f6e1c97",
   "metadata": {},
   "source": [
    "# REACHED TARGETS AND CANCELLED TARGETS"
   ]
  },
  {
   "cell_type": "code",
   "execution_count": 6,
   "id": "9f617bcd",
   "metadata": {},
   "outputs": [
    {
     "data": {
      "application/vnd.jupyter.widget-view+json": {
       "model_id": "0ea52c3dc5264a9db5a101af7e4b23f6",
       "version_major": 2,
       "version_minor": 0
      },
      "text/plain": [
       "Canvas(toolbar=Toolbar(toolitems=[('Home', 'Reset original view', 'home', 'home'), ('Back', 'Back to previous …"
      ]
     },
     "metadata": {},
     "output_type": "display_data"
    }
   ],
   "source": [
    "# Callback and data for the barplot with the result reached and cancelled\n",
    "\n",
    "hist_time = []\n",
    "bar_y = [0, 0]\n",
    "\n",
    "def result_callback(msg):\n",
    "    if rps == True:\n",
    "        bar_y[1] = bar_y[1] + 1 \n",
    "        hist_time.append(msg.header.stamp.secs - msg.status.goal_id.stamp.secs)\n",
    "    else:\n",
    "        bar_y[0] = bar_y[0] + 1 \n",
    "\n",
    "# Subscribe  the  topic go_to_point ansd its result\n",
    "\n",
    "bar_fig = plot.figure()\n",
    "ax_bar = bar_fig.add_subplot(111)\n",
    "bar_x = ['Cancelled_Target', 'Reached_Target']\n",
    "rects = plot.bar(bar_x, bar_y, color='c')\n",
    "\n",
    "def animate_rects(i):\n",
    "    for rec, val in zip(rects, bar_y):\n",
    "         rec.set_height(val)   \n",
    "    ax_bar.set_ylim([0, max(bar_y)+1]) \n",
    "    return rects, \n",
    "\n",
    "jr.subscribe('/go_to_point/result', rt2_assignment1.msg.RcAction, result_callback)\n",
    "\n",
    "#final output visualization output\n",
    "anim_reached = animation.FuncAnimation(bar_fig, animate_rects, blit=True)  "
   ]
  },
  {
   "cell_type": "markdown",
   "id": "24085fe8",
   "metadata": {},
   "source": [
    "# TIME TO REACH A GOAL BY ROBOT"
   ]
  },
  {
   "cell_type": "code",
   "execution_count": 7,
   "id": "88c50653",
   "metadata": {},
   "outputs": [
    {
     "data": {
      "application/vnd.jupyter.widget-view+json": {
       "model_id": "8b7c82312a984cf1be034c629dd133f4",
       "version_major": 2,
       "version_minor": 0
      },
      "text/plain": [
       "Canvas(toolbar=Toolbar(toolitems=[('Home', 'Reset original view', 'home', 'home'), ('Back', 'Back to previous …"
      ]
     },
     "metadata": {},
     "output_type": "display_data"
    }
   ],
   "source": [
    "# Time to reach the goal by robot ........\n",
    "hist_fig, ax_hist = plot.subplots()\n",
    "ax_hist.set_xlabel(\"Time for  target reaching\")\n",
    "ax_hist.set_ylabel(\"Occurencies\")\n",
    "bins=30\n",
    "\n",
    "ax_hist.hist([],bins)\n",
    "\n",
    "\n",
    "_, _, bar_container = ax_hist.hist(hist_time, bins, lw=1,ec=\"cyan\", fc=\"green\", alpha=0.5)\n",
    "\n",
    "\n",
    "def animate_hist(i):    \n",
    "        n, _ = npy.histogram(hist_time, bins)\n",
    "        ax_hist.hist(hist_time, bins, lw=1,ec=\"cyan\", fc=\"green\", alpha=0.5)\n",
    "        ax_hist.autoscale()\n",
    "        \n",
    "\n",
    "# output for the final visualization \n",
    "anim_hist = animation.FuncAnimation(hist_fig, animate_hist, blit=True) "
   ]
  }
 ],
 "metadata": {
  "kernelspec": {
   "display_name": "Python 3 (ipykernel)",
   "language": "python",
   "name": "python3"
  },
  "language_info": {
   "codemirror_mode": {
    "name": "ipython",
    "version": 3
   },
   "file_extension": ".py",
   "mimetype": "text/x-python",
   "name": "python",
   "nbconvert_exporter": "python",
   "pygments_lexer": "ipython3",
   "version": "3.8.10"
  }
 },
 "nbformat": 4,
 "nbformat_minor": 5
}
